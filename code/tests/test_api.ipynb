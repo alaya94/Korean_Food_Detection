{
 "cells": [
  {
   "cell_type": "code",
   "execution_count": 2,
   "metadata": {},
   "outputs": [
    {
     "name": "stdout",
     "output_type": "stream",
     "text": [
      "Image saved as 'detected_food.jpg'\n"
     ]
    }
   ],
   "source": [
    "import requests\n",
    "\n",
    "# Define the API endpoint\n",
    "url = \"http://127.0.0.1:8000/detect-food/\"\n",
    "\n",
    "# Provide the image URL in the payload\n",
    "file_path = r\"C:\\Users\\user\\Documents\\GitHub\\Korean_Food_Detection\\test_exemples\\KakaoTalk_20240926_134421785_11.jpg\"\n",
    "\n",
    "# Prepare the file to send as 'file'\n",
    "files = {\"file\": open(file_path, \"rb\")}\n",
    "\n",
    "# Send a POST request to the API\n",
    "response = requests.post(url, files=files)\n",
    "\n",
    "# Check the status of the response\n",
    "if response.status_code == 200:\n",
    "    # If the request was successful, the image is returned as a file attachment\n",
    "    # Save the image to a local file\n",
    "    with open(\"detected_food.jpg\", \"wb\") as file:\n",
    "        file.write(response.content)\n",
    "    print(\"Image saved as 'detected_food.jpg'\")\n",
    "else:\n",
    "    print(f\"Error: {response.status_code}, {response.text}\")\n",
    "\n",
    "# Close the file\n",
    "files[\"file\"].close()"
   ]
  },
  {
   "cell_type": "code",
   "execution_count": null,
   "metadata": {},
   "outputs": [],
   "source": []
  }
 ],
 "metadata": {
  "kernelspec": {
   "display_name": ".venv",
   "language": "python",
   "name": "python3"
  },
  "language_info": {
   "codemirror_mode": {
    "name": "ipython",
    "version": 3
   },
   "file_extension": ".py",
   "mimetype": "text/x-python",
   "name": "python",
   "nbconvert_exporter": "python",
   "pygments_lexer": "ipython3",
   "version": "3.12.7"
  }
 },
 "nbformat": 4,
 "nbformat_minor": 2
}
